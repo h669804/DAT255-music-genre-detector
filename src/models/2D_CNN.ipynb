{
 "cells": [
  {
   "cell_type": "code",
   "execution_count": null,
   "metadata": {
    "execution": {
     "iopub.execute_input": "2025-04-15T17:39:01.256271Z",
     "iopub.status.busy": "2025-04-15T17:39:01.255935Z",
     "iopub.status.idle": "2025-04-15T17:39:04.594999Z",
     "shell.execute_reply": "2025-04-15T17:39:04.594170Z",
     "shell.execute_reply.started": "2025-04-15T17:39:01.256245Z"
    },
    "trusted": true
   },
   "outputs": [],
   "source": [
    "import os\n",
    "import librosa\n",
    "import numpy as np\n",
    "import tensorflow as tf\n",
    "from tensorflow.keras.models import Model\n",
    "from tensorflow.image import resize\n",
    "import matplotlib.pyplot as plt\n",
    "import seaborn as sns\n",
    "\n",
    "dataset_path = \"/kaggle/input/gtzan-dataset-music-genre-classification/Data/images_original\"\n",
    "print(os.listdir(dataset_path))"
   ]
  },
  {
   "cell_type": "code",
   "execution_count": null,
   "metadata": {
    "execution": {
     "iopub.execute_input": "2025-04-15T17:39:04.596835Z",
     "iopub.status.busy": "2025-04-15T17:39:04.596231Z",
     "iopub.status.idle": "2025-04-15T17:39:06.670619Z",
     "shell.execute_reply": "2025-04-15T17:39:06.669746Z",
     "shell.execute_reply.started": "2025-04-15T17:39:04.596800Z"
    },
    "trusted": true
   },
   "outputs": [],
   "source": [
    "random_file = \"/kaggle/input/gtzan-dataset-music-genre-classification/Data/genres_original/blues/blues.00000.wav\"\n",
    "\n",
    "x, sr = librosa.load(random_file, sr=44100)\n",
    "plt.figure(figsize=(14, 5))\n",
    "librosa.display.waveshow(x, sr=sr)"
   ]
  },
  {
   "cell_type": "markdown",
   "metadata": {},
   "source": [
    "# Chunking"
   ]
  },
  {
   "cell_type": "code",
   "execution_count": null,
   "metadata": {
    "execution": {
     "iopub.execute_input": "2025-04-15T17:39:06.673648Z",
     "iopub.status.busy": "2025-04-15T17:39:06.672681Z",
     "iopub.status.idle": "2025-04-15T17:39:11.024433Z",
     "shell.execute_reply": "2025-04-15T17:39:11.023653Z",
     "shell.execute_reply.started": "2025-04-15T17:39:06.673612Z"
    },
    "trusted": true
   },
   "outputs": [],
   "source": [
    "audio_path = \"/kaggle/input/gtzan-dataset-music-genre-classification/Data/genres_original/blues/blues.00000.wav\"\n",
    "y, sr = librosa.load(audio_path, sr=None) #Keep original sampling rate \n",
    "\n",
    "#Define duration of each chunk\n",
    "chunk_duration = 4 #sec\n",
    "overlap_duration = 2 #sec\n",
    "\n",
    "#Convert duration to samples \n",
    "chunk_samples = chunk_duration * sr\n",
    "overlap_samples = overlap_duration * sr\n",
    "\n",
    "#Calculate the number of chunks \n",
    "num_chunks = int(np.ceil((len(y) - chunk_samples) / (chunk_samples - overlap_samples))) + 1\n",
    "\n",
    "#Iterate over each chunk\n",
    "for i in range (num_chunks):\n",
    "    #Calculate start and end indices of the chunk\n",
    "    start = i * (chunk_samples - overlap_samples)\n",
    "    end = start + chunk_samples\n",
    "\n",
    "    #Extract the chunk of audio \n",
    "    chunk = y[start:end]\n",
    "    plt.figure(figsize=(4,2))\n",
    "    librosa.display.waveshow(chunk, sr=sr)\n",
    "    plt.show()"
   ]
  },
  {
   "cell_type": "markdown",
   "metadata": {},
   "source": [
    "# Melspectrogram"
   ]
  },
  {
   "cell_type": "code",
   "execution_count": null,
   "metadata": {
    "execution": {
     "iopub.execute_input": "2025-04-15T17:39:11.025827Z",
     "iopub.status.busy": "2025-04-15T17:39:11.025607Z",
     "iopub.status.idle": "2025-04-15T17:39:11.032789Z",
     "shell.execute_reply": "2025-04-15T17:39:11.031828Z",
     "shell.execute_reply.started": "2025-04-15T17:39:11.025808Z"
    },
    "trusted": true
   },
   "outputs": [],
   "source": [
    "#Plotting Melspectrogram of Entire audio\n",
    "def plot_melspectrogram(y,sr):\n",
    "    #Compute the spectrogram \n",
    "    spectrogram = librosa.feature.melspectrogram(y=y, sr=sr)\n",
    "    #Convert to db (log scale)\n",
    "    spectrogram_db = librosa.power_to_db(spectrogram, ref=np.max)\n",
    "    #Visualize the spectrogram \n",
    "    plt.figure(figsize=(10, 4))\n",
    "    librosa.display.specshow(spectrogram_db, sr=sr, x_axis='time', y_axis='mel')\n",
    "    plt.colorbar(format='$+20f dB')\n",
    "    plt.title('Spectrogram')\n",
    "    plt.tight_layout()\n",
    "    plt.show()\n",
    "\n",
    "#Plotting Melspectrogram of chunks \n",
    "def plot_melspectrogram_chunks(y,sr):\n",
    "    #Define duration of each chunk and overlap\n",
    "    chunk_duration = 4\n",
    "    overlap_duration = 2\n",
    "\n",
    "    #Convert duration to samples \n",
    "    chunk_samples = chunk_duration * sr\n",
    "    overlap_samples = overlap_duration * sr\n",
    "\n",
    "    # Calculate the number of chunks\n",
    "    num_chunks = int(np.ceil((len(y) - chunk_samples) / (chunk_samples - overlap_samples))) + 1\n",
    "    \n",
    "    # Iterate over each chunk\n",
    "    for i in range(num_chunks):\n",
    "        # Calculate start and end indices of the chunk\n",
    "        start = i * (chunk_samples - overlap_samples)\n",
    "        end = start + chunk_samples\n",
    "        \n",
    "        # Extract the chunk of audio\n",
    "        chunk = y[start:end]\n",
    "\n",
    "        #Compute the Mel Spectrogram for the chunk \n",
    "        mel_spectrogram = librosa.feature.melspectrogram(y=chunk, sr=sr)\n",
    "        print(mel_spectrogram.shape)\n",
    "        spectrogram_db = librosa.power_to_db(mel_spectrogram, ref=np.max)\n",
    "        #Visualize the spectrogram \n",
    "        plt.figure(figsize=(10,4))\n",
    "        librosa.display.specshow(spectrogram_db, sr=sr, x_axis='time', y_axis='mel')\n",
    "        plt.colorbar(format='%+2.0f dB')\n",
    "        plt.title('Spectrogram')\n",
    "        plt.tight_layout()\n",
    "        plt.show()"
   ]
  },
  {
   "cell_type": "code",
   "execution_count": null,
   "metadata": {
    "execution": {
     "iopub.execute_input": "2025-04-15T17:39:11.033883Z",
     "iopub.status.busy": "2025-04-15T17:39:11.033642Z",
     "iopub.status.idle": "2025-04-15T17:39:11.663767Z",
     "shell.execute_reply": "2025-04-15T17:39:11.662885Z",
     "shell.execute_reply.started": "2025-04-15T17:39:11.033864Z"
    },
    "trusted": true
   },
   "outputs": [],
   "source": [
    "#Spectrogram of entire audio\n",
    "plot_melspectrogram(y=x, sr=sr)"
   ]
  },
  {
   "cell_type": "code",
   "execution_count": null,
   "metadata": {
    "execution": {
     "iopub.execute_input": "2025-04-15T17:39:11.665085Z",
     "iopub.status.busy": "2025-04-15T17:39:11.664600Z",
     "iopub.status.idle": "2025-04-15T17:39:20.893903Z",
     "shell.execute_reply": "2025-04-15T17:39:20.893080Z",
     "shell.execute_reply.started": "2025-04-15T17:39:11.665062Z"
    },
    "trusted": true
   },
   "outputs": [],
   "source": [
    "#Spectrogram of Chunks \n",
    "plot_melspectrogram_chunks(y=x, sr=sr)"
   ]
  },
  {
   "cell_type": "markdown",
   "metadata": {},
   "source": [
    "# 2 Preprocessing\n"
   ]
  },
  {
   "cell_type": "code",
   "execution_count": null,
   "metadata": {
    "execution": {
     "iopub.execute_input": "2025-04-15T17:39:20.895215Z",
     "iopub.status.busy": "2025-04-15T17:39:20.894885Z",
     "iopub.status.idle": "2025-04-15T17:39:20.899846Z",
     "shell.execute_reply": "2025-04-15T17:39:20.898753Z",
     "shell.execute_reply.started": "2025-04-15T17:39:20.895185Z"
    },
    "trusted": true
   },
   "outputs": [],
   "source": [
    "#Define folder structure\n",
    "data_dir = '/kaggle/input/gtzan-dataset-music-genre-classification/Data/genres_original'\n",
    "classes = ['blues', 'classical','country','disco','hiphop','jazz', 'metal', 'pop', 'reggae', 'rock']"
   ]
  },
  {
   "cell_type": "code",
   "execution_count": null,
   "metadata": {
    "execution": {
     "iopub.execute_input": "2025-04-15T17:39:20.900792Z",
     "iopub.status.busy": "2025-04-15T17:39:20.900597Z",
     "iopub.status.idle": "2025-04-15T17:39:20.931133Z",
     "shell.execute_reply": "2025-04-15T17:39:20.930504Z",
     "shell.execute_reply.started": "2025-04-15T17:39:20.900775Z"
    },
    "trusted": true
   },
   "outputs": [],
   "source": [
    "from skimage.transform import resize\n",
    "\n",
    "def load_and_preprocess_data(data_dir, classes, target_shape=(150, 150)):\n",
    "    data = []\n",
    "    labels = []\n",
    "    \n",
    "    chunk_duration = 4    # seconds\n",
    "    overlap_duration = 2  # seconds\n",
    "    \n",
    "    for i_class, class_name in enumerate(classes):\n",
    "        print(f\"Processing {class_name}\")\n",
    "        \n",
    "        class_dir = os.path.join(data_dir, class_name)\n",
    "        try:\n",
    "            for filename in os.listdir(class_dir):\n",
    "                if filename.endswith('.wav'):\n",
    "                    file_path = os.path.join(class_dir, filename)\n",
    "                    try:\n",
    "                        audio_data, sample_rate = librosa.load(file_path, sr=None)\n",
    "                        chunk_samples = chunk_duration * sample_rate\n",
    "                        overlap_samples = overlap_duration * sample_rate\n",
    "                        step_size = chunk_samples - overlap_samples\n",
    "                        \n",
    "                        num_chunks = max(1, int(np.ceil(\n",
    "                            (len(audio_data) - chunk_samples) / step_size)) + 1)\n",
    "                        \n",
    "                        for i in range(num_chunks):\n",
    "                            start = i * step_size\n",
    "                            end = min(start + chunk_samples, len(audio_data))\n",
    "                            chunk = audio_data[start:end]\n",
    "                            \n",
    "                            mel_spectrogram = librosa.feature.melspectrogram(\n",
    "                                y=chunk, sr=sample_rate)\n",
    "                            mel_spectrogram = resize(\n",
    "                                np.expand_dims(mel_spectrogram, axis=-1), \n",
    "                                target_shape)\n",
    "                            \n",
    "                            data.append(mel_spectrogram)\n",
    "                            labels.append(i_class)\n",
    "                    except Exception as e:\n",
    "                        print(f\"Error processing {filename}: {str(e)}\")\n",
    "        except Exception as e:\n",
    "            print(f\"Error accessing {class_dir}: {str(e)}\")\n",
    "            \n",
    "    return np.array(data), np.array(labels)"
   ]
  },
  {
   "cell_type": "code",
   "execution_count": null,
   "metadata": {
    "execution": {
     "iopub.execute_input": "2025-04-15T17:39:20.934390Z",
     "iopub.status.busy": "2025-04-15T17:39:20.933895Z",
     "iopub.status.idle": "2025-04-15T17:41:43.765857Z",
     "shell.execute_reply": "2025-04-15T17:41:43.765176Z",
     "shell.execute_reply.started": "2025-04-15T17:39:20.934368Z"
    },
    "trusted": true
   },
   "outputs": [],
   "source": [
    "#Split data into training and testing sets \n",
    "data, labels = load_and_preprocess_data(data_dir, classes)\n",
    "#print(\"\\nData:\", data, \"\\nlabel\", labels)"
   ]
  },
  {
   "cell_type": "code",
   "execution_count": null,
   "metadata": {
    "execution": {
     "iopub.execute_input": "2025-04-15T17:41:43.767485Z",
     "iopub.status.busy": "2025-04-15T17:41:43.767233Z",
     "iopub.status.idle": "2025-04-15T17:41:43.772431Z",
     "shell.execute_reply": "2025-04-15T17:41:43.771402Z",
     "shell.execute_reply.started": "2025-04-15T17:41:43.767463Z"
    },
    "trusted": true
   },
   "outputs": [],
   "source": [
    "labels.shape"
   ]
  },
  {
   "cell_type": "code",
   "execution_count": null,
   "metadata": {
    "execution": {
     "iopub.execute_input": "2025-04-15T17:41:43.773628Z",
     "iopub.status.busy": "2025-04-15T17:41:43.773403Z",
     "iopub.status.idle": "2025-04-15T17:41:43.789005Z",
     "shell.execute_reply": "2025-04-15T17:41:43.788210Z",
     "shell.execute_reply.started": "2025-04-15T17:41:43.773608Z"
    },
    "trusted": true
   },
   "outputs": [],
   "source": [
    "labels"
   ]
  },
  {
   "cell_type": "code",
   "execution_count": null,
   "metadata": {
    "execution": {
     "iopub.execute_input": "2025-04-15T17:41:43.790173Z",
     "iopub.status.busy": "2025-04-15T17:41:43.789918Z",
     "iopub.status.idle": "2025-04-15T17:41:43.805857Z",
     "shell.execute_reply": "2025-04-15T17:41:43.805126Z",
     "shell.execute_reply.started": "2025-04-15T17:41:43.790154Z"
    },
    "trusted": true
   },
   "outputs": [],
   "source": [
    "from tensorflow.keras.utils import to_categorical\n",
    "\n",
    "#Convert labels to one-hot encoding\n",
    "labels = to_categorical(labels, num_classes=len(classes)) \n",
    "labels"
   ]
  },
  {
   "cell_type": "code",
   "execution_count": null,
   "metadata": {
    "execution": {
     "iopub.execute_input": "2025-04-15T17:41:43.806746Z",
     "iopub.status.busy": "2025-04-15T17:41:43.806541Z",
     "iopub.status.idle": "2025-04-15T17:41:43.818214Z",
     "shell.execute_reply": "2025-04-15T17:41:43.817323Z",
     "shell.execute_reply.started": "2025-04-15T17:41:43.806719Z"
    },
    "trusted": true
   },
   "outputs": [],
   "source": [
    "labels.shape"
   ]
  },
  {
   "cell_type": "code",
   "execution_count": null,
   "metadata": {
    "execution": {
     "iopub.execute_input": "2025-04-15T17:41:43.819094Z",
     "iopub.status.busy": "2025-04-15T17:41:43.818870Z",
     "iopub.status.idle": "2025-04-15T17:41:43.833726Z",
     "shell.execute_reply": "2025-04-15T17:41:43.832986Z",
     "shell.execute_reply.started": "2025-04-15T17:41:43.819075Z"
    },
    "trusted": true
   },
   "outputs": [],
   "source": [
    "data.shape"
   ]
  },
  {
   "cell_type": "code",
   "execution_count": null,
   "metadata": {
    "execution": {
     "iopub.execute_input": "2025-04-15T17:41:43.834734Z",
     "iopub.status.busy": "2025-04-15T17:41:43.834524Z",
     "iopub.status.idle": "2025-04-15T17:41:44.249699Z",
     "shell.execute_reply": "2025-04-15T17:41:44.248999Z",
     "shell.execute_reply.started": "2025-04-15T17:41:43.834716Z"
    },
    "trusted": true
   },
   "outputs": [],
   "source": [
    "from sklearn.model_selection import train_test_split\n",
    "X_train, X_test, y_train, y_test = train_test_split(data, labels, test_size=0.2, random_state=42)"
   ]
  },
  {
   "cell_type": "code",
   "execution_count": null,
   "metadata": {
    "execution": {
     "iopub.execute_input": "2025-04-15T17:41:44.250726Z",
     "iopub.status.busy": "2025-04-15T17:41:44.250496Z",
     "iopub.status.idle": "2025-04-15T17:41:44.255755Z",
     "shell.execute_reply": "2025-04-15T17:41:44.254751Z",
     "shell.execute_reply.started": "2025-04-15T17:41:44.250705Z"
    },
    "trusted": true
   },
   "outputs": [],
   "source": [
    "model = tf.keras.models.Sequential()"
   ]
  },
  {
   "cell_type": "code",
   "execution_count": null,
   "metadata": {
    "execution": {
     "iopub.execute_input": "2025-04-15T17:41:44.256760Z",
     "iopub.status.busy": "2025-04-15T17:41:44.256533Z",
     "iopub.status.idle": "2025-04-15T17:41:44.271409Z",
     "shell.execute_reply": "2025-04-15T17:41:44.270547Z",
     "shell.execute_reply.started": "2025-04-15T17:41:44.256740Z"
    },
    "trusted": true
   },
   "outputs": [],
   "source": [
    "X_train[0].shape\n",
    "#X_train.shape"
   ]
  },
  {
   "cell_type": "code",
   "execution_count": null,
   "metadata": {
    "execution": {
     "iopub.execute_input": "2025-04-15T17:41:44.272529Z",
     "iopub.status.busy": "2025-04-15T17:41:44.272240Z",
     "iopub.status.idle": "2025-04-15T17:41:44.285641Z",
     "shell.execute_reply": "2025-04-15T17:41:44.284974Z",
     "shell.execute_reply.started": "2025-04-15T17:41:44.272500Z"
    },
    "trusted": true
   },
   "outputs": [],
   "source": [
    "from tensorflow.keras.layers import Conv2D, MaxPool2D, Flatten, Dense, Dropout\n",
    "def create_model(input_shape, num_classes):\n",
    "    model = Sequential()\n",
    "\n",
    "    model.add(Conv2D(filters=32, kernel_size=3, padding='same', activation='relu', input_shape=input_shape))\n",
    "    model.add(Conv2D(filters=32, kernel_size=3, activation='relu'))\n",
    "    model.add(MaxPool2D(pool_size=2, strides=2))\n",
    "\n",
    "    model.add(Conv2D(filters=64, kernel_size=3, padding='same', activation='relu'))\n",
    "    model.add(Conv2D(filters=64, kernel_size=3, activation='relu'))\n",
    "    model.add(MaxPool2D(pool_size=2, strides=2))\n",
    "\n",
    "    model.add(Conv2D(filters=128, kernel_size=3, padding='same', activation='relu'))\n",
    "    model.add(Conv2D(filters=128, kernel_size=3, activation='relu'))\n",
    "    model.add(MaxPool2D(pool_size=2, strides=2))\n",
    "\n",
    "    model.add(Dropout(0.3))\n",
    "\n",
    "    model.add(Conv2D(filters=256, kernel_size=3, padding='same', activation='relu'))\n",
    "    model.add(Conv2D(filters=256, kernel_size=3, activation='relu'))\n",
    "    model.add(MaxPool2D(pool_size=2, strides=2))\n",
    "\n",
    "    model.add(Conv2D(filters=512, kernel_size=3, padding='same', activation='relu'))\n",
    "    model.add(Conv2D(filters=512, kernel_size=3, activation='relu'))\n",
    "    model.add(MaxPool2D(pool_size=2, strides=2))\n",
    "\n",
    "    model.add(Dropout(0.3))\n",
    "    model.add(Flatten())\n",
    "    model.add(Dense(units=1200, activation='relu'))\n",
    "    model.add(Dropout(0.45))\n",
    "    model.add(Dense(units=num_classes, activation='softmax'))\n",
    "\n",
    "    return model"
   ]
  },
  {
   "cell_type": "markdown",
   "metadata": {},
   "source": [
    "# "
   ]
  },
  {
   "cell_type": "code",
   "execution_count": null,
   "metadata": {
    "execution": {
     "iopub.execute_input": "2025-04-15T17:41:44.286806Z",
     "iopub.status.busy": "2025-04-15T17:41:44.286523Z",
     "iopub.status.idle": "2025-04-15T18:03:05.716601Z",
     "shell.execute_reply": "2025-04-15T18:03:05.715706Z",
     "shell.execute_reply.started": "2025-04-15T17:41:44.286777Z"
    },
    "trusted": true
   },
   "outputs": [],
   "source": [
    "from tensorflow.keras.optimizers import Adam, SGD, RMSprop\n",
    "from tensorflow.keras.callbacks import ReduceLROnPlateau, EarlyStopping\n",
    "from tensorflow.keras.models import Sequential\n",
    "\n",
    "optimizers = {\n",
    "    'Adam': Adam(learning_rate=0.0001),\n",
    "    'SGD': SGD(learning_rate=0.01, momentum=0.9),\n",
    "    'RMSprop': RMSprop(learning_rate=0.0001)\n",
    "}\n",
    "\n",
    "results = {}\n",
    "\n",
    "# Define input shape and number of classes\n",
    "input_shape = X_train[0].shape  # Assuming X_train is a NumPy array or Tensor\n",
    "num_classes = y_train.shape[1]  # Assuming y_train is one-hot encoded\n",
    "\n",
    "# Train and evaluate each optimizer\n",
    "for name, optimizer in optimizers.items():\n",
    "    print(f\"\\nTraining with {name} optimizer...\")\n",
    "\n",
    "    reduce_lr = ReduceLROnPlateau(\n",
    "    monitor=\"val_loss\",\n",
    "    factor=0.5,\n",
    "    patience=5\n",
    "    )\n",
    "    early_stop = EarlyStopping(monitor='val_loss', patience=7, restore_best_weights=True)\n",
    "    \n",
    "    model = create_model(input_shape, num_classes)\n",
    "    model.compile(optimizer=optimizer, loss='categorical_crossentropy', metrics=['accuracy'])\n",
    "    \n",
    "    # Train the model (verbose=1 for progress updates)\n",
    "    history = model.fit(X_train, y_train, epochs=30, batch_size=32,\n",
    "                        validation_data=(X_test, y_test), verbose=1,\n",
    "                       callbacks=[reduce_lr, early_stop])\n",
    "    \n",
    "    # Evaluate on test set\n",
    "    test_loss, test_acc = model.evaluate(X_test, y_test, verbose=0)\n",
    "    results[name] = {\n",
    "        'model': model,\n",
    "        'history': history.history,  # Store history as dict\n",
    "        'test_loss': test_loss,\n",
    "        'test_accuracy': test_acc\n",
    "    }\n",
    "    model.save(f'2DCNN_{name}.h5')\n",
    "# Step 1: Print numerical comparison\n",
    "print(\"\\n=== Optimizer Performance Comparison ===\")\n",
    "print(f\"{'Optimizer':<10} | {'Test Loss':<10} | {'Test Accuracy':<15}\")\n",
    "print(\"-\" * 35)\n",
    "for name, metrics in results.items():\n",
    "    print(f\"{name:<10} | {metrics['test_loss']:<10.4f} | {metrics['test_accuracy']:<15.4f}\")\n",
    "\n",
    "# Step 2: Plot training and validation metrics\n",
    "plt.figure(figsize=(14, 5))\n",
    "\n",
    "# Plot 1: Validation Accuracy\n",
    "plt.subplot(1, 2, 1)\n",
    "for name, metrics in results.items():\n",
    "    plt.plot(metrics['history']['val_accuracy'], label=f\"{name} Val Acc\")\n",
    "plt.title('Validation Accuracy per Epoch')\n",
    "plt.xlabel('Epoch')\n",
    "plt.ylabel('Accuracy')\n",
    "plt.legend()\n",
    "\n",
    "# Plot 2: Validation Loss\n",
    "plt.subplot(1, 2, 2)\n",
    "for name, metrics in results.items():\n",
    "    plt.plot(metrics['history']['val_loss'], label=f\"{name} Val Loss\")\n",
    "plt.title('Validation Loss per Epoch')\n",
    "plt.xlabel('Epoch')\n",
    "plt.ylabel('Loss')\n",
    "plt.legend()\n",
    "\n",
    "plt.tight_layout()\n",
    "plt.show()"
   ]
  },
  {
   "cell_type": "code",
   "execution_count": null,
   "metadata": {
    "execution": {
     "iopub.execute_input": "2025-04-15T18:03:05.717933Z",
     "iopub.status.busy": "2025-04-15T18:03:05.717576Z",
     "iopub.status.idle": "2025-04-15T18:03:12.258386Z",
     "shell.execute_reply": "2025-04-15T18:03:12.257656Z",
     "shell.execute_reply.started": "2025-04-15T18:03:05.717902Z"
    },
    "trusted": true
   },
   "outputs": [],
   "source": [
    "import numpy as np\n",
    "\n",
    "predictions = {}\n",
    "\n",
    "for name, wrap in results.items():\n",
    "    # Get predictions\n",
    "    y_pred = wrap['model'].predict(X_test)\n",
    "    \n",
    "    # Convert probabilities to class labels\n",
    "    y_pred_classes = np.argmax(y_pred, axis=1)\n",
    "\n",
    "    predictions[name] = {\n",
    "        'predictons': y_pred,\n",
    "        'predicted_classes': y_pred_classes\n",
    "    }\n",
    "    \n",
    "# Convert one-hot true labels to class labels\n",
    "y_true_classes = np.argmax(y_test, axis=1)"
   ]
  },
  {
   "cell_type": "code",
   "execution_count": null,
   "metadata": {
    "execution": {
     "iopub.execute_input": "2025-04-15T18:03:12.259644Z",
     "iopub.status.busy": "2025-04-15T18:03:12.259316Z",
     "iopub.status.idle": "2025-04-15T18:03:14.054225Z",
     "shell.execute_reply": "2025-04-15T18:03:14.053384Z",
     "shell.execute_reply.started": "2025-04-15T18:03:12.259609Z"
    },
    "trusted": true
   },
   "outputs": [],
   "source": [
    "from sklearn.metrics import classification_report\n",
    "import seaborn as sns\n",
    "import matplotlib.pyplot as plt\n",
    "from sklearn.metrics import confusion_matrix\n",
    "\n",
    "for name, y_pred in predictions.items():\n",
    "    print(classification_report(y_true_classes, y_pred['predicted_classes'], target_names=classes))\n",
    "    # Compute confusion matrix\n",
    "    cm = confusion_matrix(y_true_classes, y_pred['predicted_classes'])\n",
    "    \n",
    "    # Plot confusion matrix\n",
    "    plt.figure(figsize=(10, 8))\n",
    "    sns.heatmap(cm, annot=True, fmt=\"d\", cmap=\"Blues\", xticklabels=classes, yticklabels=classes)\n",
    "    plt.xlabel(\"Predicted Label\")\n",
    "    plt.ylabel(\"True Label\")\n",
    "    plt.title(f\"Confusion Matrix  2D CNN with {name}\")\n",
    "    plt.savefig(f'2dcnn{name}_confusion_matrix.png')\n",
    "    plt.show()\n",
    "\n"
   ]
  },
  {
   "cell_type": "code",
   "execution_count": null,
   "metadata": {
    "trusted": true
   },
   "outputs": [],
   "source": []
  }
 ],
 "metadata": {
  "kaggle": {
   "accelerator": "gpu",
   "dataSources": [
    {
     "datasetId": 568973,
     "sourceId": 1032238,
     "sourceType": "datasetVersion"
    }
   ],
   "dockerImageVersionId": 30918,
   "isGpuEnabled": true,
   "isInternetEnabled": true,
   "language": "python",
   "sourceType": "notebook"
  },
  "kernelspec": {
   "display_name": "Python 3",
   "language": "python",
   "name": "python3"
  },
  "language_info": {
   "codemirror_mode": {
    "name": "ipython",
    "version": 3
   },
   "file_extension": ".py",
   "mimetype": "text/x-python",
   "name": "python",
   "nbconvert_exporter": "python",
   "pygments_lexer": "ipython3",
   "version": "3.10.12"
  }
 },
 "nbformat": 4,
 "nbformat_minor": 4
}
